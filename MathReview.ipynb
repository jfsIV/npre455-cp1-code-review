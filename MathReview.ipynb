{
 "cells": [
  {
   "cell_type": "markdown",
   "id": "33e7b325-206b-4b33-a8b9-f1f6adadec56",
   "metadata": {},
   "source": [
    "# Review of Math in Python"
   ]
  },
  {
   "cell_type": "markdown",
   "id": "f877d1ba-8125-495c-bcd7-c776c2273cba",
   "metadata": {},
   "source": [
    "Basic Python supports a plethora of math operators. The various rudimentary math operators are: addition (`+`), subtraction (`-`), multiplication (`*`), division (`/`), and power (`**`). This syntax is standard across most coding languages, however it should be noted that many languages do not have built in power (`**`) (looking at you C++). With the rudimentary operators introduced, lets get into to how to use them.\n",
    "\n",
    "Python (like most coding languages) has the notion of a 'variable', or an object that holds information. A variable is known as an 'lvalue', because it must be instantiated on the left hand side of an equal sign (this comes from before C++ {} and () constructors). Numbers, like `4` and `7` are 'rvalues', because they cannot be used to store data and must be used exclusively on the right hand side of an equal sign. Lets do some examples of variable initializing.\n"
   ]
  },
  {
   "cell_type": "code",
   "execution_count": 4,
   "id": "9369e922-a3c5-4e36-87ce-a24a486d5380",
   "metadata": {},
   "outputs": [],
   "source": [
    "a = 3 # this is valid, a is an lvalue and 3 is an rvalue\n",
    "b = 7 + 3 # this is also valid, functions and complete statements are valid rvalues"
   ]
  },
  {
   "cell_type": "code",
   "execution_count": 5,
   "id": "0c179193-2dfc-4111-ba23-9f964603f5a9",
   "metadata": {},
   "outputs": [
    {
     "ename": "SyntaxError",
     "evalue": "cannot assign to literal here. Maybe you meant '==' instead of '='? (613442187.py, line 1)",
     "output_type": "error",
     "traceback": [
      "\u001b[0;36m  Cell \u001b[0;32mIn[5], line 1\u001b[0;36m\u001b[0m\n\u001b[0;31m    3 = c # this is not valid, and python will yell at you if you try this...\u001b[0m\n\u001b[0m    ^\u001b[0m\n\u001b[0;31mSyntaxError\u001b[0m\u001b[0;31m:\u001b[0m cannot assign to literal here. Maybe you meant '==' instead of '='?\n"
     ]
    }
   ],
   "source": [
    "3 = c # this is not valid, and python will yell at you if you try this..."
   ]
  },
  {
   "cell_type": "markdown",
   "id": "46bf56fa-045b-4abc-bf7b-3aa313530782",
   "metadata": {},
   "source": [
    "Lets get into some more complicated math. First, computers (code) do follow PEMDAS, however it is a good idea to use parentheses to seperate chunks of an equation. Parentheses are free and help the code to know what you want (and make your life easier when debugging)."
   ]
  },
  {
   "cell_type": "code",
   "execution_count": 7,
   "id": "bd13ed03-f57f-454b-b32b-a31595076653",
   "metadata": {},
   "outputs": [],
   "source": [
    "a = 3 + 5 * 3 ** 4 * 7 #2838\n",
    "b = (3 + 5) * (3 ** 4) * 7 #4536\n",
    "c = (3 + (5 * 3)) ** (4 * 7) #140485060518220186283313934500888576"
   ]
  },
  {
   "cell_type": "markdown",
   "id": "133d2b0f-9c33-4d5d-a0fa-3bb29cab3e7f",
   "metadata": {},
   "source": [
    "Finally, be concious of the size of a number you are using. At the end of the day, a number is being represented by 1s and 0s, and they have a rough time representing absurdly large numbers. There are other helpful operators like floor (`//`) and modulus (`%`). Floor is similair to divide, but it rounds down to the nearest whole number. Modulus returns the remainder."
   ]
  },
  {
   "cell_type": "code",
   "execution_count": 23,
   "id": "4ccd3e58-3c88-4062-ae34-040750f39f47",
   "metadata": {},
   "outputs": [
    {
     "data": {
      "text/plain": [
       "(1.0, 2)"
      ]
     },
     "execution_count": 23,
     "metadata": {},
     "output_type": "execute_result"
    }
   ],
   "source": [
    "3.9//2, 4//2"
   ]
  },
  {
   "cell_type": "code",
   "execution_count": 25,
   "id": "2ba6d024-8917-49bc-91b2-adead40f90d1",
   "metadata": {},
   "outputs": [
    {
     "data": {
      "text/plain": [
       "(1.9, 1)"
      ]
     },
     "execution_count": 25,
     "metadata": {},
     "output_type": "execute_result"
    }
   ],
   "source": [
    "3.9%2, 3%2"
   ]
  },
  {
   "cell_type": "code",
   "execution_count": null,
   "id": "41f76323-5682-4320-a44c-746c62eeaeea",
   "metadata": {},
   "outputs": [],
   "source": []
  }
 ],
 "metadata": {
  "kernelspec": {
   "display_name": "Python 3 (ipykernel)",
   "language": "python",
   "name": "python3"
  },
  "language_info": {
   "codemirror_mode": {
    "name": "ipython",
    "version": 3
   },
   "file_extension": ".py",
   "mimetype": "text/x-python",
   "name": "python",
   "nbconvert_exporter": "python",
   "pygments_lexer": "ipython3",
   "version": "3.12.7"
  }
 },
 "nbformat": 4,
 "nbformat_minor": 5
}

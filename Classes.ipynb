{
 "cells": [
  {
   "cell_type": "markdown",
   "id": "c1dc4627-7c28-4156-a04c-5e71f77a6519",
   "metadata": {},
   "source": [
    "# Classes"
   ]
  },
  {
   "cell_type": "markdown",
   "id": "37909242-78f5-454b-b26d-954ab761b18a",
   "metadata": {},
   "source": [
    "A `class` is the foundation of object oriented program. They are 'containers' that hold methods and/ or data. You have already interacted with classes in python whether you knew it or not. \n",
    "\n",
    "An example of a class is a `numpy.array`. In the case of the `numpy.array`, the data being stored is lists of numbers, strings, etc., and the methods are functions like `numpy.array().resize()` or `numpy.array().argmax()`."
   ]
  },
  {
   "cell_type": "code",
   "execution_count": 6,
   "id": "61f8cf35-6e99-471e-a1ac-be7b45973d80",
   "metadata": {},
   "outputs": [],
   "source": [
    "import numpy as np\n",
    "\n",
    "a = np.array([1,2,3,4])  # a is an object of type numpy.array, numpy.array is the class\n",
    "\n",
    "a.resize(2,2)  # .resize() is a method of the numpy.array class"
   ]
  },
  {
   "cell_type": "markdown",
   "id": "3d7dd7f5-8ccd-4eed-b158-7f01b9a83382",
   "metadata": {},
   "source": [
    "## What data can be stored in classes? "
   ]
  },
  {
   "cell_type": "markdown",
   "id": "8bad00e9-36a4-4341-b0c9-513809590154",
   "metadata": {},
   "source": [
    "Any form of data you can think of can be stored in classes. Strings, dictionaries, other classes, etc... It's all up to you!"
   ]
  },
  {
   "cell_type": "markdown",
   "id": "2e35fa8e-a872-45e9-9c80-36cff577ef1f",
   "metadata": {},
   "source": [
    "## What are class methods?"
   ]
  },
  {
   "cell_type": "markdown",
   "id": "16b06af4-26ad-49de-9aab-1b495115305e",
   "metadata": {},
   "source": [
    "Class methods are functions that are 'owned' by the class. A method is a function that touches the data of the class in some way, whether this is changing the data or simply returning the data. "
   ]
  },
  {
   "cell_type": "markdown",
   "id": "7ecd0760-c002-4839-b196-98deaa532ef4",
   "metadata": {},
   "source": [
    "Enough chit chat, lets get down to business. Here is the minimal definition on how you define a class."
   ]
  },
  {
   "cell_type": "code",
   "execution_count": 45,
   "id": "a92cfaf6-1402-4087-8d05-fc9debb5f6b8",
   "metadata": {},
   "outputs": [],
   "source": [
    "class myobject:  #creates a class called 'myobject'\n",
    "    def __init__(self):  #the initializer of the class, the class needs to know about itself to be initialized\n",
    "        return\n",
    "\n",
    "a = myobject()  #instantiates variable 'a' as type 'myobject'"
   ]
  },
  {
   "cell_type": "markdown",
   "id": "df6e1808-0801-4089-b9c5-679d5be38dbc",
   "metadata": {},
   "source": [
    "`myobject` is the name of the class, and has a single member function called `__init__`. `__init__` is a required method in every class, as it tells python how to construct the class. If you want the class to have a member variable, aka data, you would instantiate that variable in the `__init__` method. Every class method (except for `@staticmethod` but we will get into that later) must have the argument `self`. This tells the member function about its parent class, allowing the function to access the class's data. \n",
    "\n",
    "Lets add some member variables!"
   ]
  },
  {
   "cell_type": "code",
   "execution_count": 48,
   "id": "430591f2-b5fb-4234-a39c-b477fbe6b473",
   "metadata": {},
   "outputs": [],
   "source": [
    "class myobject:\n",
    "    def __init__(self, arg1):  #you can pass arguments to the initializer\n",
    "        self.variable1 = arg1  #to assign a member variable, you must do self.variable\n",
    "        self.variable2 = 'hello'\n",
    "        self.variable3 = {'one':1}\n",
    "        return\n",
    "\n",
    "a = myobject(1)"
   ]
  },
  {
   "cell_type": "markdown",
   "id": "29ad2709-27b1-4cea-89a7-002a77c9bcbe",
   "metadata": {},
   "source": [
    "To access the member variables, we use similair notation as in the initializer:"
   ]
  },
  {
   "cell_type": "code",
   "execution_count": 51,
   "id": "b6c27536-53db-4741-b79a-6876b615ff48",
   "metadata": {},
   "outputs": [
    {
     "name": "stdout",
     "output_type": "stream",
     "text": [
      "variable1 is 1\n"
     ]
    }
   ],
   "source": [
    "print(f'variable1 is {a.variable1}')"
   ]
  },
  {
   "cell_type": "markdown",
   "id": "b8feefb6-f869-4ad8-a644-ea991d226858",
   "metadata": {},
   "source": [
    "Now its time for member functions. Member functions can be declared in multiple different ways, let us first start with the simplest."
   ]
  },
  {
   "cell_type": "code",
   "execution_count": 55,
   "id": "720a9b3e-f4eb-4b39-ace8-448cdd1ac99e",
   "metadata": {},
   "outputs": [
    {
     "name": "stdout",
     "output_type": "stream",
     "text": [
      "Hello, something\n"
     ]
    }
   ],
   "source": [
    "class myobject:\n",
    "    def __init__(self):\n",
    "        self.variable = 'Hello'\n",
    "        return\n",
    "    def print(self, arg):\n",
    "        print(f'{self.variable}, {arg}')\n",
    "        \n",
    "a = myobject()\n",
    "a.print('something')"
   ]
  },
  {
   "cell_type": "markdown",
   "id": "a61428ba-57ec-42e2-850a-ac800e309106",
   "metadata": {},
   "source": [
    "You can also add methods, called dunder or magic methods, for 'operator overloading'. A helpful use case of dunder methods is the `__call__` method, which allows you to create something called a Functor. A functor is a mix between a class and a function, which allows a class object to behave like a function, i.e. you can instantiate a function with whatever inner-workings you want (helpful for material properties...). A simple example of a functor is an addition functor. "
   ]
  },
  {
   "cell_type": "markdown",
   "id": "a004ebf3-9d45-4a0d-b108-08a06ba32ecf",
   "metadata": {},
   "source": [
    "Say you want to add two numbers together, a + b. Lets also say that a is some constant that may change, for example you want to add 4 to b, no matter what b is, but you want to be able to change 4, 3, 17, 9, etc. To do this with a typical function, you could either define a new function for adding 3 or adding 4 or so on, or you could pass a as an argument. Alternatively, you could use a functor, and initialize the function with whatever number you want. Lets look at the second option, the functor:"
   ]
  },
  {
   "cell_type": "code",
   "execution_count": 10,
   "id": "6d06cc6d-d308-48e2-b177-536c10e187ec",
   "metadata": {},
   "outputs": [],
   "source": [
    "class add:\n",
    "    def __init__(self, a):\n",
    "        self.a = a\n",
    "        return\n",
    "\n",
    "    def __call__(self,b):\n",
    "        return b + self.a"
   ]
  },
  {
   "cell_type": "markdown",
   "id": "5694c00a-0936-4205-a538-25a68a02d5e1",
   "metadata": {},
   "source": [
    "Now, if I have the liberty to set a to be whatever I want without having to create new functions each time or pass it as an argument:"
   ]
  },
  {
   "cell_type": "code",
   "execution_count": 12,
   "id": "533af2be-bc9b-4028-b705-8a544f48429a",
   "metadata": {},
   "outputs": [
    {
     "name": "stdout",
     "output_type": "stream",
     "text": [
      "47\n",
      "18\n"
     ]
    }
   ],
   "source": [
    "# set a to 42:\n",
    "add42 = add(42)\n",
    "print(add42(5))\n",
    "\n",
    "# set a to 13:\n",
    "add13 = add(13)\n",
    "print(add13(5))"
   ]
  },
  {
   "cell_type": "markdown",
   "id": "b029af77-0f83-4ede-85de-a8111a8cc606",
   "metadata": {},
   "source": [
    "Now obviously this is a bit of a silly and over complex approach to a problem like this, as passing a as an argument to a function is not too difficult. However, what about for a problem such as material properties like the diffusion coefficient?"
   ]
  },
  {
   "cell_type": "markdown",
   "id": "7ab8382d-4b1f-4e01-a90a-630af83e1df6",
   "metadata": {},
   "source": [
    "$$ \\frac{2D_i}{h^2} \\cdot \\biggr[ -\\frac{D_{i+1}}{D_i + D_{i+1}}\\phi_{i+1} +\\biggr( \\frac{D_{i+1}}{D_i + D_{i+1}} + \\frac{D_{i-1}}{D_i + D_{i-1}}  \\biggr)\\phi_i - \\frac{D_{i-1}}{D_i + D_{i-1}}\\phi_{i-1} \\biggr] $$"
   ]
  },
  {
   "cell_type": "markdown",
   "id": "a4b09daf-2746-4382-90f2-f9ffd3696cbf",
   "metadata": {},
   "source": [
    "You could create a functor object, that to initialize would take the diffusion coefficients for each boundary and the physical bounds of the problem, would take (as arguments to the functor) the mesh spacing and the location you want, and would return the left ($i-1$), center ($i$), and right ($i+1$)."
   ]
  },
  {
   "cell_type": "markdown",
   "id": "982a6fb5-845f-464c-be80-8242bb11d625",
   "metadata": {},
   "source": [
    "What benefit does a functor have over a simple function that takes all the same things? \n",
    "\n",
    "1. Can initialize right at the beginning of the problem and you wouldn't have to worry about passing correct arguments later\n",
    "2. Much simpler to debug than a classic python function, no copy and paste required, and because the functor gets initialized prior to the problem you do not have to worry about reconstructing the exact conditions the function is seeing to determine what is going wrong\n",
    "3. Would require minimal (likely no) rewriting to go from problem to problem, as the difference are taken into account by the functor's initialization\n",
    "\n",
    "Some sample code to get you started on making your functor is below!"
   ]
  },
  {
   "cell_type": "code",
   "execution_count": 5,
   "id": "841fdeb5-fbc3-48d8-9c42-0342890c05f9",
   "metadata": {},
   "outputs": [],
   "source": [
    "class NumericalDiffCoeff():\n",
    "    def __init__(self, inputs):\n",
    "\n",
    "        #set your parameters here!\n",
    "\n",
    "        self.replace_me = inputs # change me\n",
    "\n",
    "        return\n",
    "\n",
    "    def whichDiff(self, x):\n",
    "        # return the diffusion coefficient at x\n",
    "        return \n",
    "\n",
    "    def left(self, param):\n",
    "        #This function to find the left (i-1) diffusion coefficient\n",
    "        return \n",
    "\n",
    "    def right(self, param):\n",
    "        #This function to find the right (i-1) diffusion coefficient\n",
    "        return \n",
    "\n",
    "    def center(self, param):\n",
    "        #This function to find the center (i-1) diffusion coefficient\n",
    "        return\n",
    "\n",
    "    def __call__(self, param):\n",
    "        #This function is NOT optimized, see if you can play around with it...\n",
    "        \n",
    "        left = self.left(param)\n",
    "        right = self.right(param)\n",
    "        center = self.center(param)\n",
    "\n",
    "        # returns a list of the diffusion coefficients for a single row\n",
    "        # could use this in conjunction with np.array splicing to fill in one fell swoop...\n",
    "        return [left, center, right]\n",
    "\n",
    "    def __getitem__(self,param):\n",
    "        #This function overrides indexing, the idea being you index the diffusion coeff at x\n",
    "        return self.whichDiff(param)\n",
    "\n",
    "#how to initialize\n",
    "NumDCoeff = NumericalDiffCoeff(inputs=None)\n",
    "\n",
    "# to call at some x location \n",
    "x = 0\n",
    "NumDCoeff(x)\n",
    "\n",
    "# to index at some x location\n",
    "NumDCoeff[x]"
   ]
  }
 ],
 "metadata": {
  "kernelspec": {
   "display_name": "Python 3 (ipykernel)",
   "language": "python",
   "name": "python3"
  },
  "language_info": {
   "codemirror_mode": {
    "name": "ipython",
    "version": 3
   },
   "file_extension": ".py",
   "mimetype": "text/x-python",
   "name": "python",
   "nbconvert_exporter": "python",
   "pygments_lexer": "ipython3",
   "version": "3.10.14"
  }
 },
 "nbformat": 4,
 "nbformat_minor": 5
}

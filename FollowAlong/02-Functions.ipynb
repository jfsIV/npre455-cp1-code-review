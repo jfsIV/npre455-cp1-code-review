{
 "cells": [
  {
   "cell_type": "code",
   "execution_count": null,
   "id": "7a4e73cd-d59b-4805-88ad-647c236454b6",
   "metadata": {},
   "outputs": [],
   "source": [
    "# imports\n",
    "import matplotlib.pyplot as plt\n",
    "import numpy as np"
   ]
  },
  {
   "cell_type": "markdown",
   "id": "89b185e7-bbfd-4d68-8ac4-f1232ec092d7",
   "metadata": {},
   "source": [
    "# Overview"
   ]
  },
  {
   "cell_type": "markdown",
   "id": "7364e23a-af35-4191-82f6-00bdf80cafe6",
   "metadata": {},
   "source": [
    "Functions are best used to reduce the amount of code you have to write when considering multiple cases.\n",
    "\n",
    "For most practical purposes, functions:\n",
    "1. accept user inputs\n",
    "2. operate on the inputs\n",
    "3. return infromation about the operated-on inputs\n",
    "\n",
    "However, listing all possible ways functions can be used would be futile -- functions are almost too versitile to fully describe."
   ]
  },
  {
   "cell_type": "markdown",
   "id": "cbc46aac-19fb-4490-b6bd-546c33d36762",
   "metadata": {},
   "source": [
    "## Defining a Function"
   ]
  },
  {
   "cell_type": "markdown",
   "id": "9558d367-0cb7-48e9-b019-85c90035035c",
   "metadata": {},
   "source": [
    "Here is how you define a function that accepts no parameters in python."
   ]
  },
  {
   "cell_type": "code",
   "execution_count": null,
   "id": "609c6037-fa22-458b-b4f4-e65be7dcba2b",
   "metadata": {},
   "outputs": [],
   "source": [
    "# defining a function\n",
    "def nothing_function():\n",
    "    \"\"\"you can add a description of your function here\"\"\"\n",
    "    print(\"This function does nothing!\")\n",
    "    return\n",
    "\n",
    "\n",
    "# calling a function\n",
    "nothing_function()"
   ]
  },
  {
   "cell_type": "markdown",
   "id": "1f3066f8-51d9-4b21-a166-8060f120e8fe",
   "metadata": {},
   "source": [
    "## Plotting Sin"
   ]
  },
  {
   "cell_type": "markdown",
   "id": "cba012e1-2acc-4996-a221-eea8b391ce25",
   "metadata": {},
   "source": [
    "You can put any logic you want inside a function, so let's make a function that plots sin over a domain the user specifies."
   ]
  },
  {
   "cell_type": "code",
   "execution_count": null,
   "id": "6d3fdcde-4b6b-4984-ba26-d47f0d7b7256",
   "metadata": {},
   "outputs": [],
   "source": [
    "# function signature\n",
    "\n",
    "    # adding the xs, ys\n",
    "    \n",
    "\n",
    "    # plotting\n",
    "    plt.plot(xs, ys, label=f\"sin(x) on [{left}, {right}]\")\n",
    "    plt.xlabel('x'), plt.ylabel('y')\n",
    "    plt.grid('both'), plt.legend(loc=1)\n",
    "    plt.show()\n",
    "\n",
    "    return"
   ]
  },
  {
   "cell_type": "code",
   "execution_count": null,
   "id": "c566622c-5ae3-42fa-9f88-8eb8697add51",
   "metadata": {},
   "outputs": [],
   "source": [
    "# calling the functions\n"
   ]
  },
  {
   "cell_type": "markdown",
   "id": "d48a278f-4558-48ad-aabc-3f3b780fe46c",
   "metadata": {},
   "source": [
    "That is pretty neat!\n",
    "\n",
    "Now, let's make another plotting function with two changes:\n",
    "1. a variable amplitude on the sin wave\n",
    "2. a default value for the plotting bounds that we can later change if we want."
   ]
  },
  {
   "cell_type": "code",
   "execution_count": null,
   "id": "0891c2d1-3b3b-489e-8a9b-1de09e436b10",
   "metadata": {},
   "outputs": [],
   "source": [
    "# modify signature, left, right\n",
    "def plot_sin2(left, right): \n",
    "    xs = np.linspace(left, right)\n",
    "    # modify ys\n",
    "    ys = np.sin(xs)\n",
    "\n",
    "    # plots\n",
    "    plt.plot(xs, ys, label=f\"sin(x) on [{round(left, 2)}, {round(right, 2)}]\")\n",
    "    plt.xlabel('x'), plt.ylabel('y')\n",
    "    plt.grid('both'), plt.legend(loc=1)\n",
    "    plt.show()\n",
    "\n",
    "    return"
   ]
  },
  {
   "cell_type": "code",
   "execution_count": null,
   "id": "e7916e60-a34b-4515-9b91-93123903a295",
   "metadata": {},
   "outputs": [],
   "source": [
    "plot_sin2(1)\n",
    "plot_sin2(5)"
   ]
  },
  {
   "cell_type": "markdown",
   "id": "725cc714-6231-4a3a-b8a5-a89c8cb96939",
   "metadata": {},
   "source": [
    "We can still change the bounds of the plotting if we want. All we have to do in add more arguements to our function"
   ]
  },
  {
   "cell_type": "code",
   "execution_count": null,
   "id": "fadc1c2e-f81f-4f10-9d90-87548adba111",
   "metadata": {},
   "outputs": [],
   "source": [
    "plot_sin2(1, -2, 0)"
   ]
  },
  {
   "cell_type": "markdown",
   "id": "5b652ed5-5720-4fcd-a3be-d895512d1828",
   "metadata": {},
   "source": [
    "What if we forgot if left or right comes first? We can explicitly tell python which variable is which like the following."
   ]
  },
  {
   "cell_type": "code",
   "execution_count": null,
   "id": "2b7a3758-40c2-4eac-bb01-bc2ffc0a67ea",
   "metadata": {},
   "outputs": [],
   "source": [
    "plot_sin2(\n",
    "    height=2,\n",
    "    right=-4,\n",
    "    left=3\n",
    ")"
   ]
  },
  {
   "cell_type": "markdown",
   "id": "854f6028-cd42-4486-a285-dbb92e8ca6d0",
   "metadata": {},
   "source": [
    "Luckily, we can rearrange the input parameters in any order we want an get the same output as long as we declare each variable explicitly.\n",
    "\n",
    "For this example, it does not matter that much, but for a function like ```plt.plot()```, assigning each variable explicitly means we don't have to input our parameters in the order matplotlib has them (alphabetical order)."
   ]
  },
  {
   "cell_type": "markdown",
   "id": "8be5e03e-686c-49de-9b4d-37d8509dcbed",
   "metadata": {},
   "source": [
    "## Example Function"
   ]
  },
  {
   "cell_type": "markdown",
   "id": "38c5731e-9eca-4869-93d0-9a279ad3edea",
   "metadata": {},
   "source": [
    "If you were to write a function according to the [NumPy Documentation](https://numpy.org/doc/), here is how a plotting sin function might look."
   ]
  },
  {
   "cell_type": "code",
   "execution_count": null,
   "id": "f7bc17fe-244e-46f9-ae1d-da1fab24bc29",
   "metadata": {},
   "outputs": [],
   "source": [
    "def example_sin(\n",
    "    bounds=(-np.pi, np.pi),\n",
    "    grids=True,\n",
    "    height=1,\n",
    "    label='',\n",
    "    label_decimals=2,\n",
    "    num_points=50,\n",
    "):\n",
    "    \"\"\"This function plots sin(x) with an variable amplitude over various\n",
    "    bounds. This function returns None, but plots sine using matplotlib\n",
    "\n",
    "    Parameters\n",
    "    ----------\n",
    "    bounds: iterable\n",
    "        iterable of the (left, right) bounds\n",
    "    grids: bool\n",
    "        specifies if the plot should include a grid\n",
    "    height: float\n",
    "        specifies the height/amplitude of the plotted sine\n",
    "    label: string\n",
    "        label used for plotting. defaults to \"sin on [left, right]\n",
    "    label_decimals: int\n",
    "        number of decimal points used when displaying the label\n",
    "    num_points: int\n",
    "        the number of points used in the spatial discretization of the bounds\n",
    "\n",
    "    Raises\n",
    "    ------\n",
    "    AssertionError\n",
    "        If bounds[0] > bounds[1]\n",
    "\n",
    "    Returns\n",
    "    -------\n",
    "    None\n",
    "        plots instead of returning a value\n",
    "    \"\"\"\n",
    "    left, right = bounds\n",
    "    assert(left <= right)\n",
    "\n",
    "    xs = np.linspace(left, right, num_points)\n",
    "    ys = height * np.sin(xs)\n",
    "\n",
    "    if label == '':\n",
    "        label = f\"sin(x) on [{round(left, 2)}, {round(right, 2)}]\"\n",
    "\n",
    "    plt.plot(xs, ys, label=label)\n",
    "    plt.xlabel('x'), plt.ylabel('y')\n",
    "    plt.legend(loc=1)\n",
    "    if grids:\n",
    "        plt.grid('both')\n",
    "    plt.show()\n",
    "\n",
    "    return"
   ]
  },
  {
   "cell_type": "markdown",
   "id": "7069630a-8afe-425b-bb91-a05b95d57d44",
   "metadata": {},
   "source": [
    "Although python supports other coding paradigms, most of the code we write during our degree falls into the \"procedural programming\" paradigm. Procedural programming is usually very linear and oriented towards a specific goal.\n",
    "\n",
    "In procedural programming, the user provides an input the program passes through a series of functions. Each function in the series generates a puzzle piece required for the desired output. Although the \"shape\" of each puzzle piece changes, the \"number\" of puzzle pieces is usually the same for a specific program."
   ]
  },
  {
   "cell_type": "markdown",
   "id": "c149d38c-4258-4646-92b7-87b696afae81",
   "metadata": {},
   "source": [
    "# Lambda Functions"
   ]
  },
  {
   "cell_type": "markdown",
   "id": "c386d808-cc34-49fc-a230-206ccc1305c1",
   "metadata": {},
   "source": [
    "Lambda functions are functions that can be done in one line and are perfect for small operations.\n",
    "\n",
    "Lambda functions are not defined like function functions. Instead, the format is\n",
    "\n",
    "```lambda_name``` = lambda ```var_1, var_2, ..., var_n```: operation with the varibles"
   ]
  },
  {
   "cell_type": "code",
   "execution_count": null,
   "id": "abb1957d-6a9a-4802-8f0c-6e46ed433a7d",
   "metadata": {},
   "outputs": [],
   "source": [
    "# create the lambda function\n",
    "\n",
    "\n",
    "# output\n",
    "variable_root(25, 2)"
   ]
  }
 ],
 "metadata": {
  "kernelspec": {
   "display_name": "Python 3 (ipykernel)",
   "language": "python",
   "name": "python3"
  },
  "language_info": {
   "codemirror_mode": {
    "name": "ipython",
    "version": 3
   },
   "file_extension": ".py",
   "mimetype": "text/x-python",
   "name": "python",
   "nbconvert_exporter": "python",
   "pygments_lexer": "ipython3",
   "version": "3.12.7"
  }
 },
 "nbformat": 4,
 "nbformat_minor": 5
}

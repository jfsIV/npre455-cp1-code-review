{
 "cells": [
  {
   "cell_type": "code",
   "execution_count": null,
   "id": "b356b6c2-1d38-46e1-b741-5b1332da9feb",
   "metadata": {},
   "outputs": [],
   "source": [
    "# imports\n",
    "import matplotlib.pyplot as plt\n",
    "import numpy as np\n",
    "from numpy import pi"
   ]
  },
  {
   "cell_type": "markdown",
   "id": "82544641-0814-458f-af48-6bd118f0e89f",
   "metadata": {},
   "source": [
    "# Math Review"
   ]
  },
  {
   "cell_type": "markdown",
   "id": "a161334c-d226-4688-a564-be5aff17b914",
   "metadata": {},
   "source": [
    "Basic Python supports a plethora of math operators. The various rudimentary math operators are: addition (`+`), subtraction (`-`), multiplication (`*`), division (`/`), and power (`**`). This syntax is standard across most coding languages, however it should be noted that many languages do not have built in power (`**`) (looking at you C++). With the rudimentary operators introduced, lets get into to how to use them.\n",
    "\n",
    "Python (like most coding languages) has the notion of a 'variable', or an object that holds information. A variable is known as an 'lvalue', because it must be instantiated on the left hand side of an equal sign (this comes from before C++ {} and () constructors). Numbers, like `4` and `7` are 'rvalues', because they cannot be used to store data and must be used exclusively on the right hand side of an equal sign. Lets do some examples of variable initializing.\n"
   ]
  },
  {
   "cell_type": "code",
   "execution_count": null,
   "id": "38e946ec-8e67-4fca-80ac-e089e890d4fd",
   "metadata": {},
   "outputs": [],
   "source": [
    "a = 3 # this is valid, a is an lvalue and 3 is an rvalue\n",
    "b = 7 + 3 # this is also valid, functions and complete statements are valid rvalues"
   ]
  },
  {
   "cell_type": "code",
   "execution_count": null,
   "id": "2b57008f-ed0b-4aeb-9aec-2b42f33e84e2",
   "metadata": {},
   "outputs": [],
   "source": [
    "3 = c # this is not valid, and python will yell at you if you try this..."
   ]
  },
  {
   "cell_type": "markdown",
   "id": "2ad90061-1423-44ea-9a95-d5cf5336f0c4",
   "metadata": {},
   "source": [
    "Lets get into some more complicated math. First, computers (code) do follow PEMDAS, however it is a good idea to use parentheses to seperate chunks of an equation. Parentheses are free and help the code to know what you want (and make your life easier when debugging)."
   ]
  },
  {
   "cell_type": "code",
   "execution_count": null,
   "id": "5bef433e-ad8b-403c-bc68-0dc873559b16",
   "metadata": {},
   "outputs": [],
   "source": [
    "a = 3 + 5 * 3 ** 4 * 7 #2838\n",
    "b = (3 + 5) * (3 ** 4) * 7 #4536\n",
    "c = (3 + (5 * 3)) ** (4 * 7) #140485060518220186283313934500888576"
   ]
  },
  {
   "cell_type": "markdown",
   "id": "360cca52-6b5f-4a01-99de-7a4dc45d6d4c",
   "metadata": {},
   "source": [
    "Finally, be concious of the size of a number you are using. At the end of the day, a number is being represented by 1s and 0s, and they have a rough time representing absurdly large numbers. This is a common error type, called 'overflow', especially when using exponententials. Another common type is 'underflow'. Both of these essentially just mean the number you are trying to represent is too big (overflow) or too small (underflow). "
   ]
  },
  {
   "cell_type": "code",
   "execution_count": null,
   "id": "9bd477c0-6daf-4165-83ba-1df317b9d920",
   "metadata": {},
   "outputs": [],
   "source": [
    "too_big = np.exp(100000)\n",
    "\n",
    "too_small = np.finfo(float).tiny / np.finfo(float).max  #dividing smallest by largest\n",
    "print(too_big, too_small)"
   ]
  },
  {
   "cell_type": "markdown",
   "id": "30626e0a-28fe-4d8e-88e1-deae81086307",
   "metadata": {},
   "source": [
    "Notice how overflow throws a warning but underflow does not. It is unlikely you will encounter underflow, but is still worth noting."
   ]
  },
  {
   "cell_type": "markdown",
   "id": "1ad25a81-0fee-4bd3-9267-660fa7f66177",
   "metadata": {},
   "source": [
    "There are other helpful operators like floor (`//`) and modulus (`%`). Floor is similair to divide, but it rounds down to the nearest whole number. Modulus returns the remainder."
   ]
  },
  {
   "cell_type": "code",
   "execution_count": null,
   "id": "3fbe89a3-93eb-40cb-ab97-7757c4206f79",
   "metadata": {},
   "outputs": [],
   "source": [
    "3.9 // 2, 4 // 2"
   ]
  },
  {
   "cell_type": "code",
   "execution_count": null,
   "id": "35f4293d-ecd4-45ce-95d5-45caa92df5eb",
   "metadata": {},
   "outputs": [],
   "source": [
    "3.9 % 2, 3 % 2"
   ]
  },
  {
   "cell_type": "markdown",
   "id": "e41552fa-e5b3-43ef-8c3b-4c3fc72c316d",
   "metadata": {},
   "source": [
    "# Built-in Types"
   ]
  },
  {
   "cell_type": "markdown",
   "id": "4b6e0ceb-12df-4726-a569-373484f47622",
   "metadata": {},
   "source": [
    "Python is a dynamically-typed language, which means variables can be reassigned to any value regardless of the variable's previous type and the new type. Python being dynamically-typed also means you generally do not have to worry about the type of your variables.\n",
    "\n",
    "Some built in types are:\n",
    "- ```int``` = 1\n",
    "- ```float``` =  1.2\n",
    "- ```str``` = \"a\"\n",
    "There are more built in types, which you can find [here](https://www.geeksforgeeks.org/python-data-types/)."
   ]
  },
  {
   "cell_type": "markdown",
   "id": "72211e66-97de-4077-be84-f49975ecbcdd",
   "metadata": {},
   "source": [
    "## Integers and Floats"
   ]
  },
  {
   "cell_type": "markdown",
   "id": "940c4a80-ef8c-4b72-970a-60487d97036c",
   "metadata": {},
   "source": [
    "While integers and floats are staightforward, here are a few helpful functions"
   ]
  },
  {
   "cell_type": "code",
   "execution_count": null,
   "id": "4f730633-5c6a-4fa0-af2e-500ab62ee108",
   "metadata": {},
   "outputs": [],
   "source": [
    "# from numpy import pi\n",
    "print(f\"14 decimals: {pi}\")\n",
    "\n",
    "# the round function\n",
    "print(f\"rounded: {round(pi, 2)}\")\n",
    "\n",
    "# turning pi to an int\n",
    "print(f\"int: {int(pi)}\")"
   ]
  },
  {
   "cell_type": "markdown",
   "id": "8198ba5f-253d-4752-b732-905b944a5892",
   "metadata": {},
   "source": [
    "## Type Casting"
   ]
  },
  {
   "cell_type": "markdown",
   "id": "93e73a59-adfd-4bea-87cb-ec83bd475596",
   "metadata": {},
   "source": [
    "If your variable needs to be a specific type, you can declare the type with type casting. You can always check the type of your variable with the ```type``` function."
   ]
  },
  {
   "cell_type": "code",
   "execution_count": null,
   "id": "c639e1f1-2b59-4597-8ba5-3f4d03624279",
   "metadata": {},
   "outputs": [],
   "source": [
    "# float to int and str\n"
   ]
  },
  {
   "cell_type": "code",
   "execution_count": null,
   "id": "6a951591-a877-454b-946a-808631fc78ec",
   "metadata": {},
   "outputs": [],
   "source": [
    "print(float1, type(float1))\n",
    "print(int1, type(int1))\n",
    "print(str1, type(str1))"
   ]
  },
  {
   "cell_type": "markdown",
   "id": "99650876-88b4-47e3-ae60-b81ce3b7a4f2",
   "metadata": {},
   "source": [
    "## Strings"
   ]
  },
  {
   "cell_type": "markdown",
   "id": "7a820218-5951-47e2-8bac-f4594403ba91",
   "metadata": {},
   "source": [
    "Unlike some other languages, strings are sequences of strings, not characters. Here are some string operations in python."
   ]
  },
  {
   "cell_type": "code",
   "execution_count": null,
   "id": "ccefbf79-3a4d-4144-a2c5-3e765fa8c060",
   "metadata": {},
   "outputs": [],
   "source": [
    "# hello world\n"
   ]
  },
  {
   "cell_type": "code",
   "execution_count": null,
   "id": "bdabff9e-53a2-4d41-b3a2-232284f8cf57",
   "metadata": {},
   "outputs": [],
   "source": [
    "# indexing a string\n",
    "\n",
    "\n",
    "print(f\"{first_letter}, {type(first_letter)}\")"
   ]
  },
  {
   "cell_type": "markdown",
   "id": "f3a6d0b3-19c2-4022-8755-648c20b95200",
   "metadata": {},
   "source": [
    "Since strings are made of other strings, you can add them together."
   ]
  },
  {
   "cell_type": "code",
   "execution_count": null,
   "id": "b654239f-1bb5-46be-9cb0-51cc881f2144",
   "metadata": {},
   "outputs": [],
   "source": [
    "# adding strings together\n",
    "\n",
    "print(new_string)"
   ]
  },
  {
   "cell_type": "markdown",
   "id": "07cd540c-629a-473d-8b5b-fcd73b9c6b6b",
   "metadata": {},
   "source": [
    "### Manipulating Strings"
   ]
  },
  {
   "cell_type": "markdown",
   "id": "6b194544-be35-4ce7-8413-02c6aa50225a",
   "metadata": {},
   "source": [
    "Since strings are sequences (like lists and tuples, which will be biscussed later), you can slice strings. Here are a few ways you can slice strings."
   ]
  },
  {
   "cell_type": "code",
   "execution_count": null,
   "id": "697a8a22-fe8c-4c90-bdfd-f44d512f1482",
   "metadata": {},
   "outputs": [],
   "source": [
    "# from an index until the end\n",
    "my_string"
   ]
  },
  {
   "cell_type": "code",
   "execution_count": null,
   "id": "ff975207-4ba3-499a-af3f-5bbc21db6d87",
   "metadata": {},
   "outputs": [],
   "source": [
    "# until an index\n",
    "my_string"
   ]
  },
  {
   "cell_type": "code",
   "execution_count": null,
   "id": "afbb4aba-5b68-4fae-a63f-ea484171a343",
   "metadata": {},
   "outputs": [],
   "source": [
    "# until an index in reverse\n",
    "my_string"
   ]
  },
  {
   "cell_type": "code",
   "execution_count": null,
   "id": "5603bd6c-6862-47c6-9e18-70f684dd3956",
   "metadata": {},
   "outputs": [],
   "source": [
    "# from an index to another index\n",
    "my_string"
   ]
  },
  {
   "cell_type": "markdown",
   "id": "ca0bf4cf-957a-4f62-a9b5-3ef127572a51",
   "metadata": {},
   "source": [
    "### String Methods"
   ]
  },
  {
   "cell_type": "markdown",
   "id": "84b55098-0e8d-4ad1-ab8d-7d44837d23db",
   "metadata": {},
   "source": [
    "In addition to slicing strings, there are many [built-in functions for manipulating strings](https://www.w3schools.com/python/python_strings_methods.asp). This is not a comprehensive list, but here are some useful ones."
   ]
  },
  {
   "cell_type": "code",
   "execution_count": null,
   "id": "6893cbf8-987d-4302-b2bd-7b4c69ace9df",
   "metadata": {},
   "outputs": [],
   "source": [
    "# splitting a string by the space character\n",
    "my_string.split(' ')"
   ]
  },
  {
   "cell_type": "code",
   "execution_count": null,
   "id": "f234b545-2f9a-4692-855a-2d770bc99678",
   "metadata": {},
   "outputs": [],
   "source": [
    "# capitalize the first character and make all other characters lowercase\n",
    "my_string.capitalize()"
   ]
  },
  {
   "cell_type": "code",
   "execution_count": null,
   "id": "98ee653e-4b0d-4869-908e-8308b8648e44",
   "metadata": {},
   "outputs": [],
   "source": [
    "# all capitals\n",
    "my_string.upper()"
   ]
  },
  {
   "cell_type": "code",
   "execution_count": null,
   "id": "045e0f6c-afbd-4e19-b0bf-1f1709c470d2",
   "metadata": {},
   "outputs": [],
   "source": [
    "# all lowercase\n",
    "my_string.lower()"
   ]
  },
  {
   "cell_type": "markdown",
   "id": "7a2c00b3-834f-4624-8b8f-c9cb3364ceec",
   "metadata": {},
   "source": [
    "### Escape Characters"
   ]
  },
  {
   "cell_type": "markdown",
   "id": "343c560d-01bf-4f5e-a04a-806f616a8463",
   "metadata": {},
   "source": [
    "Escape characters are special characters that encode instructions into strings.\n",
    "\n",
    "You can find a list of all escape characters [here](https://www.w3schools.com/python/gloss_python_escape_characters.asp). These are by far the most useful.\n",
    "- ```\\n``` new line\n",
    "- ```\\\"``` quotation mark\n",
    "- ```\\\\``` back slash\n",
    "- ```\\t``` tab"
   ]
  },
  {
   "cell_type": "code",
   "execution_count": null,
   "id": "e2599fa0-0f0a-499d-a63f-4b22fec308b4",
   "metadata": {},
   "outputs": [],
   "source": [
    "# new line\n",
    "print(\"First line\\nSecond Line\")"
   ]
  },
  {
   "cell_type": "code",
   "execution_count": null,
   "id": "7bdeb54e-ba16-407d-a718-23d28a06d39a",
   "metadata": {},
   "outputs": [],
   "source": [
    "# quotation marks and a tab\n",
    "print(\"\\\"The best time to plant a tree was 20 years ago; the next best time is today\\\" \\n\\t- Greek Old Head\")"
   ]
  },
  {
   "cell_type": "markdown",
   "id": "4258d926-e11d-4f03-9d7c-61e92b4052a3",
   "metadata": {},
   "source": [
    "### String Prefixes"
   ]
  },
  {
   "cell_type": "markdown",
   "id": "8cc5d68e-a166-4b75-a4a8-2c0e572994aa",
   "metadata": {},
   "source": [
    "There are two useful string prefixes that dramatically simplify your print statements.\n",
    "\n",
    "- format strings ```f\"abc\"```\n",
    "- raw string ```r\"abc\"```"
   ]
  },
  {
   "cell_type": "markdown",
   "id": "b8cf4c26-aa0e-41ee-88ad-764e44d87c0d",
   "metadata": {},
   "source": [
    "If you want to output data with additional text, f strings are extremely useful. f strings replace the ```.format()``` method and are much easier to read."
   ]
  },
  {
   "cell_type": "code",
   "execution_count": null,
   "id": "82246d65-a072-44b9-a727-3ee97201470b",
   "metadata": {},
   "outputs": [],
   "source": [
    "# multiple variables at once\n",
    "\n",
    "\n",
    "f\"{val1} plus {val2} is equal to {val1 + val2}\""
   ]
  },
  {
   "cell_type": "markdown",
   "id": "396d4414-9bbb-4f39-a156-1d40991e7012",
   "metadata": {},
   "source": [
    "# If Statements"
   ]
  },
  {
   "cell_type": "markdown",
   "id": "eb4a2222-a25d-498d-a394-5dfacbeb58e0",
   "metadata": {},
   "source": [
    "It is hard to talk about if statements without dicussing Boolean algebra. Python evaluates the condition of your if statement using Boolean algebra rules and executing the code in the if statement if ```True``` and skipping the code if ```False```."
   ]
  },
  {
   "cell_type": "code",
   "execution_count": null,
   "id": "0e6ec5d1-1656-48a8-9867-75193494f699",
   "metadata": {},
   "outputs": [],
   "source": [
    "# if True / False\n"
   ]
  },
  {
   "cell_type": "markdown",
   "id": "80a88c3e-0881-458e-b558-ac94e63331bd",
   "metadata": {},
   "source": [
    "You can also use the ```not``` operator to invert the evaluation."
   ]
  },
  {
   "cell_type": "code",
   "execution_count": null,
   "id": "63ea519e-ad31-4538-b5cd-83472a81c7e6",
   "metadata": {},
   "outputs": [],
   "source": [
    "# if not True / False"
   ]
  },
  {
   "cell_type": "markdown",
   "id": "805a0f8b-6acb-4ead-884a-0ab232cec2b1",
   "metadata": {},
   "source": [
    "## Boolean Algebra"
   ]
  },
  {
   "cell_type": "markdown",
   "id": "47e0c914-245c-4324-b1b5-0663c0f88655",
   "metadata": {},
   "source": [
    "When comparing values, you can use comparison operators to determine if two values are equal to each other.\n",
    "\n",
    "Here are the comparison operators in python:\n",
    "- ```<```, less than\n",
    "- ```>```, greater than\n",
    "- ```<=```, less than or equal to\n",
    "- ```>=```, greater than or equal to\n",
    "- ```==```, equal to\n",
    "- ```!=```, not equal to"
   ]
  },
  {
   "cell_type": "markdown",
   "id": "220f4ffa-fd4e-4944-8e19-467310bd5095",
   "metadata": {},
   "source": [
    "Here is how you construct an if statement."
   ]
  },
  {
   "cell_type": "code",
   "execution_count": null,
   "id": "c8d9d009-2b3f-4e41-8dab-97e942aab033",
   "metadata": {},
   "outputs": [],
   "source": [
    "# comparing numbers\n"
   ]
  },
  {
   "cell_type": "markdown",
   "id": "9b10556e-9423-4738-934f-871f63ace019",
   "metadata": {},
   "source": [
    "## Truthy and Falsey Values"
   ]
  },
  {
   "cell_type": "markdown",
   "id": "77f6415e-32fa-43b9-b757-774c755068e2",
   "metadata": {},
   "source": [
    "Truthy and falsey values are not boolean variables, but can be used in evaluation like ```True``` and ```False```.\n",
    "\n",
    "Truthy values are generally 1 for numerical types (ints, floats) or populated variables for containers types (lists, dictionaries, sets) Conversely, falsey values are generally zero for numerical types or empty for containers types. A complete list of truthy and falsey values can be found [here](https://www.freecodecamp.org/news/truthy-and-falsy-values-in-python/)."
   ]
  },
  {
   "cell_type": "code",
   "execution_count": null,
   "id": "0970f8fc-9d99-47ea-8ebf-a2473ce1b8cf",
   "metadata": {},
   "outputs": [],
   "source": [
    "# values\n",
    "truthies = [1, 1.0, [1, 2, 3], {'a': 1}]\n",
    "falsies = [0, 0.0, [], {}]\n",
    "\n",
    "# looping over each value\n",
    "for truthy, falsey in zip(truthies, falsies):\n",
    "    print('-------------------')\n",
    "    \n",
    "    if truthy:\n",
    "        print(f\"{truthy} is truthy\")\n",
    "\n",
    "    if not falsey:\n",
    "        print(f\"{falsey} is falsey\")"
   ]
  },
  {
   "cell_type": "markdown",
   "id": "e36b3226-ce62-49a8-804b-4d6c138fe3ce",
   "metadata": {},
   "source": [
    "## Checking Types"
   ]
  },
  {
   "cell_type": "markdown",
   "id": "da1ff468-ca5c-4a33-8505-8235da072ce8",
   "metadata": {},
   "source": [
    "You can also use the ```type``` method to determine if a variable is of a certain type."
   ]
  },
  {
   "cell_type": "code",
   "execution_count": null,
   "id": "55d8b731-f55b-47e9-be82-f62382cd6161",
   "metadata": {},
   "outputs": [],
   "source": [
    "value = 1\n",
    "\n",
    "if type(value) is int:\n",
    "    print(f\"{value} is an int\")\n",
    "\n",
    "if type(value) is not float:\n",
    "    print(f\"{value} is not a float\")"
   ]
  },
  {
   "cell_type": "markdown",
   "id": "a4fcc497-1195-429f-9a69-47b9760c61a4",
   "metadata": {},
   "source": [
    "# Storing Data"
   ]
  },
  {
   "cell_type": "markdown",
   "id": "8ada7f04-db1b-497a-bc8c-f0b2c86d9a47",
   "metadata": {},
   "source": [
    "There are many ways to store data in Python. Here are some of the best types built-in that could be of use.\n",
    "\n",
    "- Lists\n",
    "  - Probably the best general purpose container for information\n",
    "  - Flexible as you can change the length and elements on the fly\n",
    "- Tuples\n",
    "  - Less general than lists, but still useful for particular situations\n",
    "  - In-flexible as once a tuple is made, nothing about it can change\n",
    "- Dictionaries\n",
    "  - The best built-in type for storing datasets\n",
    "  - Flexible as you can add keys and manipulate values on the "
   ]
  },
  {
   "cell_type": "markdown",
   "id": "04471aa3-981d-4ed7-9837-be479c6d4965",
   "metadata": {},
   "source": [
    "## Lists"
   ]
  },
  {
   "cell_type": "markdown",
   "id": "42c3f36e-b837-4ed3-9983-0ea08a91632f",
   "metadata": {},
   "source": [
    "### List Construction"
   ]
  },
  {
   "cell_type": "markdown",
   "id": "f318d65f-e0f7-4e42-ba02-5fdafd9f275d",
   "metadata": {},
   "source": [
    "You initialize a list by using the square brackets ```[]```.\n",
    "\n",
    "You seperate list elements with commas in between each element.\n",
    "\n",
    "The elements in a list can be of any type."
   ]
  },
  {
   "cell_type": "code",
   "execution_count": null,
   "id": "f67b8f75-1fd0-488d-9543-50c2d23d91d7",
   "metadata": {},
   "outputs": [],
   "source": [
    "# three lists\n",
    "list1 = [1, 2, 3]\n",
    "list2 = [\"glip\", \"glorp\", \"glop\"]\n",
    "list3 = [12.4, True, \"hello\", None]\n",
    "\n",
    "print(f\"List of ints:          {list1}\")\n",
    "print(f\"List of strings:       {list2}\")\n",
    "print(f\"List of random types:  {list3}\")"
   ]
  },
  {
   "cell_type": "markdown",
   "id": "3c8107ed-5c36-4a5a-8a8a-2baf4acb1c92",
   "metadata": {},
   "source": [
    "You can even make a list of lists."
   ]
  },
  {
   "cell_type": "code",
   "execution_count": null,
   "id": "6d0f3de7-e7a8-4c2f-96b6-fe4a92d454d7",
   "metadata": {},
   "outputs": [],
   "source": [
    "\n",
    "print(f\"List of Lists:  {list4}\")"
   ]
  },
  {
   "cell_type": "markdown",
   "id": "d8aafc2f-c992-4a1a-94b4-d36d1126754c",
   "metadata": {},
   "source": [
    "### List Elements"
   ]
  },
  {
   "cell_type": "markdown",
   "id": "82294e60-ac31-4e3d-8fb9-0962dde66161",
   "metadata": {},
   "source": [
    "You can add elements with the function ```append```."
   ]
  },
  {
   "cell_type": "code",
   "execution_count": null,
   "id": "9ac83f25-cc84-490e-afbc-24cfed0a4777",
   "metadata": {},
   "outputs": [],
   "source": [
    "# create an empty list\n",
    "\n",
    "print(list5)"
   ]
  },
  {
   "cell_type": "code",
   "execution_count": null,
   "id": "2b2589b5-d31d-42c2-97ae-a4867c2fe107",
   "metadata": {},
   "outputs": [],
   "source": [
    "# append to this list\n",
    "\n",
    "print(list5)"
   ]
  },
  {
   "cell_type": "markdown",
   "id": "bb62f795-1f21-4b7e-a5b1-9d7be7685d48",
   "metadata": {},
   "source": [
    "You can access the values stored in the list by indexing.\n",
    "\n",
    "Keep in mind, Python is indexed, so the first element is accessed with the index 0."
   ]
  },
  {
   "cell_type": "code",
   "execution_count": null,
   "id": "065ad1c5-cee5-44d8-996a-dd807396fd79",
   "metadata": {},
   "outputs": [],
   "source": [
    "list6 = [i for i in range(5)]\n",
    "print(list6)\n",
    "\n",
    "print(f\"\\nFirst Element, 0th index: {list6[0]}\")\n",
    "print(f\"Third Element, 2nd index: {list6[2]}\")\n",
    "print(f\"Last index: {list6[-1]}\")"
   ]
  },
  {
   "cell_type": "markdown",
   "id": "0c90261f-9f02-46be-b0ce-247143ce1cde",
   "metadata": {},
   "source": [
    "You can insert a new value into a list with the function ```insert```."
   ]
  },
  {
   "cell_type": "code",
   "execution_count": null,
   "id": "fa97b728-557a-4a11-82fd-d4eb567bf015",
   "metadata": {},
   "outputs": [],
   "source": [
    "list7 = [i for i in range(5)]\n",
    "print(list7)\n",
    "\n",
    "list7.insert(2, \"Hello\")\n",
    "print(list7)"
   ]
  },
  {
   "cell_type": "markdown",
   "id": "183f43fd-5a4c-45e6-b1bc-43c665f56e65",
   "metadata": {},
   "source": [
    "Conversely, you can also remove a specific element from a list with the function ```remove```.\n",
    "\n",
    "You can also remove an element by the index with the ```del``` function."
   ]
  },
  {
   "cell_type": "code",
   "execution_count": null,
   "id": "5f21dd80-9f74-46e6-9a8c-c7265c5a0921",
   "metadata": {},
   "outputs": [],
   "source": [
    "\n",
    "print(list8)\n",
    "\n",
    "# using remove to remove the element '2' from the list\n",
    "\n",
    "print(list8)\n",
    "\n",
    "# using del to remove the element at the second to last index \n",
    "\n",
    "print(list8)"
   ]
  },
  {
   "cell_type": "markdown",
   "id": "4b5c8725-7293-45cc-a798-94228c909e1c",
   "metadata": {},
   "source": [
    "List are mutable, which means you can also change the value of an element."
   ]
  },
  {
   "cell_type": "code",
   "execution_count": null,
   "id": "2cc50c6e-4f56-4986-aaaf-5f3361e03800",
   "metadata": {},
   "outputs": [],
   "source": [
    "list9 = [i for i in range(5)]\n",
    "print(list9)"
   ]
  },
  {
   "cell_type": "code",
   "execution_count": null,
   "id": "65094a63-78b9-43a8-bbfc-b45032deb35d",
   "metadata": {},
   "outputs": [],
   "source": [
    "# index a list\n",
    "\n",
    "print(list9)"
   ]
  },
  {
   "cell_type": "markdown",
   "id": "9a2e89cf-3f13-477b-955e-a5233e608a6f",
   "metadata": {},
   "source": [
    "## Tuples"
   ]
  },
  {
   "cell_type": "markdown",
   "id": "08215d97-011d-40ed-88f8-e6c2cbb7c206",
   "metadata": {},
   "source": [
    "### Tuple Construction"
   ]
  },
  {
   "cell_type": "markdown",
   "id": "6ae00137-3040-4c6d-b343-3069e1fa6ce5",
   "metadata": {},
   "source": [
    "Tuples are \"cousins\" of lists, with one major difference -- tuples are immutable.\n",
    "\n",
    "You initialize a tuple like a list, but with parentheses ```()```.\n",
    "\n",
    "Like lists, you seperate each element with commas.\n",
    "\n",
    "The elements in a tuple can also be of any type."
   ]
  },
  {
   "cell_type": "code",
   "execution_count": null,
   "id": "8619175a-7f88-48fc-b272-d535244c92e1",
   "metadata": {},
   "outputs": [],
   "source": [
    "# tuple1 ints\n",
    "\n",
    "# tuple2 \"characters\"\n",
    "\n",
    "tuple3 = (12.4, True, \"hello\", None)\n",
    "\n",
    "print(f\"Tuple of ints:          {tuple1}\")\n",
    "print(f\"Tuple of characters:    {tuple2}\")\n",
    "print(f\"Tuple of random types:  {tuple3}\")"
   ]
  },
  {
   "cell_type": "markdown",
   "id": "afed4c4a-bd87-4628-a29e-718df2528d7a",
   "metadata": {},
   "source": [
    "Like lists, you can also have a tuple of tuples."
   ]
  },
  {
   "cell_type": "code",
   "execution_count": null,
   "id": "3d007f17-f07f-4ab6-92e3-965cf6654f2e",
   "metadata": {},
   "outputs": [],
   "source": [
    "# tuple4 of tuples\n",
    "\n",
    "print(f\"Tuple of Tuples:  {tuple4}\")"
   ]
  },
  {
   "cell_type": "markdown",
   "id": "fa2db498-4f92-44bb-98af-152f4336cd42",
   "metadata": {},
   "source": [
    "### Tuple Elements"
   ]
  },
  {
   "cell_type": "markdown",
   "id": "fd2a5985-7740-41b3-9f32-f3c8c67c146b",
   "metadata": {},
   "source": [
    "I mentioned this before, tuples are immutable. In other words, once a tuple has been created, the tuple cannot be altered.\n",
    "\n",
    "For lists, we could index an element and change the value. Let's see what happens if we try to change the value of a tuple."
   ]
  },
  {
   "cell_type": "code",
   "execution_count": null,
   "id": "00e2c6a6-eda2-495b-8539-e0e0c0762d90",
   "metadata": {},
   "outputs": [],
   "source": [
    "print(tuple1)\n",
    "tuple1[0] = 5"
   ]
  },
  {
   "cell_type": "markdown",
   "id": "16f9a5d4-d028-4b4d-8392-49da15f15596",
   "metadata": {},
   "source": [
    "Although you cannot reassing elements in a tuple, tuples are still useful for passing information around."
   ]
  },
  {
   "cell_type": "code",
   "execution_count": null,
   "id": "c292228e-d1e0-40a8-9944-40595e8fb9c4",
   "metadata": {},
   "outputs": [],
   "source": [
    "# multiple variables with a tuple\n",
    "\n",
    "\n",
    "print(f\"----- Before Reassignment -----\")\n",
    "print(f\"a: {a}, first index: {tuple1[0]}\")\n",
    "print(f\"b: {b}, first index: {tuple1[1]}\")\n",
    "print(f\"c: {c}, first index: {tuple1[2]}\")"
   ]
  },
  {
   "cell_type": "code",
   "execution_count": null,
   "id": "9783d274-074c-464c-b8ca-5a37afcaa6a5",
   "metadata": {},
   "outputs": [],
   "source": [
    "# reassigning those variables\n",
    "\n",
    "\n",
    "print(f\"\\n----- After Reassignment -----\")\n",
    "print(f\"a: {a}, first index: {tuple1[0]}\")\n",
    "print(f\"b: {b}, first index: {tuple1[1]}\")\n",
    "print(f\"c: {c}, first index: {tuple1[2]}\")"
   ]
  },
  {
   "cell_type": "markdown",
   "id": "eec25491-cf1f-4d30-92bd-3b424b41c8c0",
   "metadata": {},
   "source": [
    "## Dictionaries"
   ]
  },
  {
   "cell_type": "markdown",
   "id": "62983d68-c3c4-4103-91d7-45eb76270242",
   "metadata": {},
   "source": [
    "### Dictionary Construction"
   ]
  },
  {
   "cell_type": "markdown",
   "id": "859b250d-3452-4a25-b397-c7cec9a4f12b",
   "metadata": {},
   "source": [
    "Dictionaries can be initialized with the last set of unused brackets ```{}```. \n",
    "\n",
    "However, unlike lists and tuples, dictionaries are multi-dimensional.\n",
    "\n",
    "Dictionaries are composed of keys and values assocaited with a specific key."
   ]
  },
  {
   "cell_type": "code",
   "execution_count": null,
   "id": "2eeb72e2-a832-4510-8aae-1586adda203a",
   "metadata": {},
   "outputs": [],
   "source": [
    "dict1 = {\n",
    "    \"a\": 1,\n",
    "    \"b\": 2,\n",
    "    \"c\": 3,\n",
    "}\n",
    "\n",
    "print(dict1)"
   ]
  },
  {
   "cell_type": "markdown",
   "id": "ac8a0e6c-f7dd-4f40-8499-4d5b9ab0dffd",
   "metadata": {},
   "source": [
    "Like lists and tuples, the value assigned to different keys can have any type, even another dictionary."
   ]
  },
  {
   "cell_type": "code",
   "execution_count": null,
   "id": "44bdb58c-dfe3-4402-8678-a0865d8a063f",
   "metadata": {},
   "outputs": [],
   "source": [
    "dict2 = {\n",
    "    \"key1\": {\n",
    "        \"a\": 1,\n",
    "        \"b\": 2},\n",
    "    \"key2\": \"hello!\",\n",
    "    \"key3\": [3, 4, 5]\n",
    "}\n",
    "\n",
    "print(dict2)"
   ]
  },
  {
   "cell_type": "markdown",
   "id": "a268819a-aa39-48fd-90e7-0ed19dd0f0c8",
   "metadata": {},
   "source": [
    "### Dictionary Values"
   ]
  },
  {
   "cell_type": "markdown",
   "id": "d9ce1f1a-c44d-438e-81ec-9b08bac9219e",
   "metadata": {},
   "source": [
    "You access the value of a key by using brackets after the dictionary with the corresponding key."
   ]
  },
  {
   "cell_type": "code",
   "execution_count": null,
   "id": "f4430ca8-1d13-4096-beae-793d2fc120ad",
   "metadata": {},
   "outputs": [],
   "source": []
  },
  {
   "cell_type": "markdown",
   "id": "277a2044-784d-4d6f-b932-5bb3cdc1be8a",
   "metadata": {},
   "source": [
    "You can also reassign the values corresponding to a key."
   ]
  },
  {
   "cell_type": "code",
   "execution_count": null,
   "id": "51d79117-7460-4ca5-ba35-eb97ef5d677c",
   "metadata": {},
   "outputs": [],
   "source": [
    "dict3 = {\n",
    "    \"a\": 1,\n",
    "    \"b\": ...,\n",
    "    \"c\": 3\n",
    "}\n",
    "\n",
    "print(dict3)\n",
    "\n",
    "dict3[\"b\"] = 2\n",
    "print(dict3)"
   ]
  },
  {
   "cell_type": "markdown",
   "id": "75bb5ce3-db0a-413d-a12d-d8dd3b6a9568",
   "metadata": {},
   "source": [
    "### Dictionary Keys"
   ]
  },
  {
   "cell_type": "markdown",
   "id": "10f194ab-a492-4c46-9c7f-258d0f9a2032",
   "metadata": {},
   "source": [
    "You can also add keys to existing dictionaries."
   ]
  },
  {
   "cell_type": "code",
   "execution_count": null,
   "id": "dc35b935-2ac3-46de-be44-0512432ea281",
   "metadata": {},
   "outputs": [],
   "source": [
    "dict5 = dict1.copy()\n",
    "print(dict5)\n",
    "\n",
    "# add a new key\n",
    "\n",
    "print(dict5)"
   ]
  },
  {
   "cell_type": "markdown",
   "id": "589cff67-0a3b-48ca-8081-1cf5b545aab8",
   "metadata": {},
   "source": [
    "You can get all the keys for a given dictionary with the ```keys``` method."
   ]
  },
  {
   "cell_type": "code",
   "execution_count": null,
   "id": "85bc9955-57a2-49af-8613-e71fdf86442f",
   "metadata": {},
   "outputs": [],
   "source": [
    "# get the keys of a dictionary\n",
    "\n",
    "\n",
    "print(dict5)\n",
    "print(keys)"
   ]
  },
  {
   "cell_type": "markdown",
   "id": "ea5d88c9-64c9-44df-a844-2b60ef2a4a95",
   "metadata": {},
   "source": [
    "## Summary"
   ]
  },
  {
   "cell_type": "markdown",
   "id": "75f19ff7-9c61-46a6-9cb0-3c6cb1c7f00f",
   "metadata": {},
   "source": [
    "When storing lots of data, consider if you can use any of these built-in types.\n",
    "\n",
    "- Lists for general purpose data transfer\n",
    "- Tuples for preserving the original data\n",
    "- Dictionaries for large datasets"
   ]
  },
  {
   "cell_type": "markdown",
   "id": "9e7a6e9b-6948-4603-955a-7fda4d1da102",
   "metadata": {},
   "source": [
    "# Looping and Iteration"
   ]
  },
  {
   "cell_type": "markdown",
   "id": "4e0cba70-37e4-4275-a545-4dfc4bdc1cfa",
   "metadata": {},
   "source": [
    "There are two ways to iterate through data in Python. These loops are:\n",
    "\n",
    "- For loops loop through a known number of iterations\n",
    "- While loops loop until a criteria is met or until breaking"
   ]
  },
  {
   "cell_type": "markdown",
   "id": "ed908abc-4d53-4a3d-9c3a-28e3e0013847",
   "metadata": {},
   "source": [
    "## For Loops"
   ]
  },
  {
   "cell_type": "markdown",
   "id": "4582f296-a3cb-4d62-a8c6-a73029d5e67e",
   "metadata": {},
   "source": [
    "### General Usage"
   ]
  },
  {
   "cell_type": "markdown",
   "id": "d8d52b1c-58bb-4868-82f1-b514090a2d16",
   "metadata": {},
   "source": [
    "For loops goes through an iterable (anything that has \"indices\") object and allows you to manipulate each element.\n",
    "\n",
    "Generally, You can either iterate over the elements or indices to manipulate each element."
   ]
  },
  {
   "cell_type": "code",
   "execution_count": null,
   "id": "096fc735-95e8-48c8-9dbe-90ffe3e4702b",
   "metadata": {},
   "outputs": [],
   "source": [
    "# data\n",
    "shapes = [\"triangle\", \"square\", \"pentagon\"]\n",
    "\n",
    "print(\"--- Looping over Elements ---\")\n",
    "for shape in shapes:\n",
    "    print(f\"{shape}\")\n",
    "\n",
    "print(\"\\n--- Looping over Indices ---\")\n",
    "for index in range(len(shapes)):\n",
    "    print(shapes[index])"
   ]
  },
  {
   "cell_type": "markdown",
   "id": "1af55e80-ac1b-4bfe-b206-605921d88ac3",
   "metadata": {},
   "source": [
    "If you need the index and the element, you can use the ```enumerate``` function."
   ]
  },
  {
   "cell_type": "code",
   "execution_count": null,
   "id": "247cb3ad-60ab-4e13-a637-33b2911a29e7",
   "metadata": {},
   "outputs": [],
   "source": [
    "for index, shape in enumerate(shapes):\n",
    "    print(f\"At index {index}, the shape is a {shape}.\")"
   ]
  },
  {
   "cell_type": "markdown",
   "id": "d91731c1-05ef-4493-b068-a41cd96affc1",
   "metadata": {},
   "source": [
    "If you need to iterate over multiple lists, you can use the ```zip``` function."
   ]
  },
  {
   "cell_type": "code",
   "execution_count": null,
   "id": "cd0bc366-da63-4369-9388-89e657883999",
   "metadata": {},
   "outputs": [],
   "source": [
    "fruits = [\"apple\", \"pear\", \"banana\"]\n",
    "colors = [\"red\", \"green\", \"yellow\"]\n",
    "\n",
    "for fruit, color in zip(fruits, colors):\n",
    "    print(f\"{fruit}s are {color}\")"
   ]
  },
  {
   "cell_type": "markdown",
   "id": "4c61bb4c-40ed-40d2-a240-d17fcb4fea8e",
   "metadata": {},
   "source": [
    "### For Loops for Dictionaries"
   ]
  },
  {
   "cell_type": "markdown",
   "id": "5799b039-f829-45c6-8d6d-a43dd2c93aea",
   "metadata": {},
   "source": [
    "When looping through a dictionary, the for loop uses ```dict.keys``` as the elements, so no need to use ```dict.keys``` as the iterable."
   ]
  },
  {
   "cell_type": "code",
   "execution_count": null,
   "id": "4dbb9f8c-2b14-4334-b1c6-e69deaabc76a",
   "metadata": {},
   "outputs": [],
   "source": [
    "my_dict = {\n",
    "    \"a\": 1,\n",
    "    \"b\": 2,\n",
    "    \"c\": 3\n",
    "}\n",
    "\n",
    "for key in my_dict:\n",
    "    print(f\"Key: {key}, Value: {my_dict[key]}\")"
   ]
  },
  {
   "cell_type": "markdown",
   "id": "bc1ebc76-625b-4231-912f-0a84822f5750",
   "metadata": {},
   "source": [
    "### ```continue```"
   ]
  },
  {
   "cell_type": "markdown",
   "id": "453c6bb7-91cb-4f5b-a8fd-f4e17f01ecbb",
   "metadata": {},
   "source": [
    "```continue``` is a statement in python that skips the rest of the code in the current iteration and moves to the next step in the iteration. This is useful if you are trying to omit processing certain types of data. (the [filter function](https://www.geeksforgeeks.org/filter-in-python/) can be used in a similar manner)"
   ]
  },
  {
   "cell_type": "code",
   "execution_count": null,
   "id": "8c23cbe2-c28e-44a8-9b56-45ade71d6964",
   "metadata": {},
   "outputs": [],
   "source": [
    "values = [1, 2, ..., [4], 5, \"6\"]\n",
    "\n",
    "for value in values:\n",
    "    if type(value) is not int:\n",
    "        continue\n",
    "    print(value)"
   ]
  },
  {
   "cell_type": "markdown",
   "id": "81a85d89-723a-44dc-add4-964b6670a020",
   "metadata": {},
   "source": [
    "### Quick Aside for ```numpy```"
   ]
  },
  {
   "cell_type": "markdown",
   "id": "3b34404e-b25b-4ea0-ad59-1b82c50e7454",
   "metadata": {},
   "source": [
    "Instead of creating for loops for numpy arrays, you can pass numpy arrays into a function and act on the entire array at once."
   ]
  },
  {
   "cell_type": "code",
   "execution_count": null,
   "id": "5731cbab-a10f-403f-9774-bb60eadc3445",
   "metadata": {},
   "outputs": [],
   "source": [
    "# gaussian function\n",
    "def gaussian(x):\n",
    "    return 2.71828**(-x**2)\n",
    "\n",
    "\n",
    "# x values\n",
    "xs = np.linspace(-5, 5, 100)\n",
    "\n",
    "# w/ a for loop. you can also use list comprehension here\n",
    "y1s = []\n",
    "\n",
    "for x in xs:\n",
    "    y1s.append(gaussian(x))\n",
    "\n",
    "# w/ a function (the function does not need to be from numpy)\n",
    "y2s = gaussian(xs)\n",
    "\n",
    "# plotting\n",
    "plt.plot(xs, y1s, label=\"for loop\", linestyle=(0,(3,5)), color=\"b\")\n",
    "plt.plot(xs, y2s, label=\"np.array\", ls=(4,(3,5)), c=\"r\")\n",
    "plt.xlabel(\"x\"), plt.ylabel(\"y\")\n",
    "plt.grid(\"both\"), plt.legend()\n",
    "plt.show()"
   ]
  },
  {
   "cell_type": "markdown",
   "id": "c42fd6a7-4400-4250-ab47-b56a522ff40a",
   "metadata": {},
   "source": [
    "Both methods return the same thing."
   ]
  },
  {
   "cell_type": "markdown",
   "id": "06a89624-515f-4b75-847f-185f0ef2a901",
   "metadata": {},
   "source": [
    "## While Loops"
   ]
  },
  {
   "cell_type": "markdown",
   "id": "031355c2-2c8c-4c8f-ab7c-b9748895f14f",
   "metadata": {},
   "source": [
    "For loops are generally considered \"safer\" than while loops. However, while loops are still underrated.\n",
    "\n",
    "While loops will not stop until you tell them. The two ways of \"telling while loops to stop\" are using break statements and conditional statements.\n",
    "\n",
    "When using while loops, you will inevitably create a loop that never ends. Don't panic, just stop the kernel.\n",
    "In jupyter lab hit\n",
    "1. ```esc``` to exit the current cell\n",
    "2. ```ii``` to iterrupt the kernel\n",
    "3. ```enter``` to confirm"
   ]
  },
  {
   "cell_type": "markdown",
   "id": "ea9074f7-d672-4a51-ba88-3d20c84d4629",
   "metadata": {},
   "source": [
    "### while True, break (better to avoid)"
   ]
  },
  {
   "cell_type": "code",
   "execution_count": null,
   "id": "9644a2b3-f485-46b0-b69e-448d16e767c3",
   "metadata": {},
   "outputs": [],
   "source": [
    "value = 3\n",
    "\n",
    "# creating the while True loop\n"
   ]
  },
  {
   "cell_type": "markdown",
   "id": "21682804-f663-449d-b89a-73d613040ee6",
   "metadata": {},
   "source": [
    "### while (condition)"
   ]
  },
  {
   "cell_type": "code",
   "execution_count": null,
   "id": "ca8b1541-8804-45b9-ae30-7a1253f7c502",
   "metadata": {},
   "outputs": [],
   "source": [
    "value = 3\n",
    "\n",
    "# creating the while condition loop\n"
   ]
  },
  {
   "cell_type": "markdown",
   "id": "c276bc93-63d2-42f8-afa0-1771ea0b7410",
   "metadata": {},
   "source": [
    "## Summary"
   ]
  },
  {
   "cell_type": "markdown",
   "id": "2de36447-fc8c-48f7-b3f4-39d08a3671d7",
   "metadata": {},
   "source": [
    "When iterating over data with a fixed size, for loops are more applicable.\n",
    "\n",
    "When performing an unknown number of operations or trying to meet a condition, while loops are more applicable."
   ]
  }
 ],
 "metadata": {
  "kernelspec": {
   "display_name": "Python 3 (ipykernel)",
   "language": "python",
   "name": "python3"
  },
  "language_info": {
   "codemirror_mode": {
    "name": "ipython",
    "version": 3
   },
   "file_extension": ".py",
   "mimetype": "text/x-python",
   "name": "python",
   "nbconvert_exporter": "python",
   "pygments_lexer": "ipython3",
   "version": "3.12.7"
  }
 },
 "nbformat": 4,
 "nbformat_minor": 5
}

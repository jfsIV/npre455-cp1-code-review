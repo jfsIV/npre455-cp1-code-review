{
 "cells": [
  {
   "cell_type": "code",
   "execution_count": 1,
   "id": "6a220ae6-d3de-4ead-a102-6f28946d73de",
   "metadata": {},
   "outputs": [],
   "source": [
    "def bad_function(a):\n",
    "    if a > 10:\n",
    "        return 1\n",
    "\n",
    "    if a < 10:\n",
    "        return -1"
   ]
  },
  {
   "cell_type": "code",
   "execution_count": 3,
   "id": "d278b459-78d7-4eff-9bc0-87d277c4f3d8",
   "metadata": {},
   "outputs": [],
   "source": [
    "def good_function(a):\n",
    "    if a > 10:\n",
    "        return 1\n",
    "\n",
    "    if a < 10:\n",
    "        return -1\n",
    "\n",
    "    raise ValueError(\"fortnite\")"
   ]
  }
 ],
 "metadata": {
  "kernelspec": {
   "display_name": "Python 3 (ipykernel)",
   "language": "python",
   "name": "python3"
  },
  "language_info": {
   "codemirror_mode": {
    "name": "ipython",
    "version": 3
   },
   "file_extension": ".py",
   "mimetype": "text/x-python",
   "name": "python",
   "nbconvert_exporter": "python",
   "pygments_lexer": "ipython3",
   "version": "3.12.7"
  }
 },
 "nbformat": 4,
 "nbformat_minor": 5
}

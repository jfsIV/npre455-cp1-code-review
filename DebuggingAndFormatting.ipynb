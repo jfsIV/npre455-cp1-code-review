{
 "cells": [
  {
   "cell_type": "markdown",
   "id": "d07a5128-6329-42b0-8949-ed23e6ff5b8f",
   "metadata": {},
   "source": [
    "Let's look at a poorly written implementation of a function that adds all the even numbers between some bounds. This function works and does the intended job, however, it is somewhat difficult to sight read. (example from \"Why You Shouldn't Nest Your Code\" by [CodeAesthetic on YT](https://www.youtube.com/@CodeAesthetic/videos))"
   ]
  },
  {
   "cell_type": "code",
   "execution_count": 46,
   "id": "42275be6-669d-4eee-a0ac-e0e486fcc925",
   "metadata": {},
   "outputs": [],
   "source": [
    "def sum_evens(bottom, top):\n",
    "    if (top > bottom):\n",
    "        total = 0\n",
    "        \n",
    "        while (bottom <= top):\n",
    "            if (bottom % 2 == 0):\n",
    "                total += bottom\n",
    "            bottom += 1\n",
    "\n",
    "        return total\n",
    "\n",
    "    else:\n",
    "        return 0"
   ]
  },
  {
   "cell_type": "code",
   "execution_count": 48,
   "id": "f509218d-6d49-4732-9177-6e5e1126ed09",
   "metadata": {},
   "outputs": [
    {
     "data": {
      "text/plain": [
       "6"
      ]
     },
     "execution_count": 48,
     "metadata": {},
     "output_type": "execute_result"
    }
   ],
   "source": [
    "sum_evens(2, 4)"
   ]
  },
  {
   "cell_type": "markdown",
   "id": "91352532-02a0-435a-86ec-cbb1aaa66aef",
   "metadata": {},
   "source": [
    "The code works as expected, but we can format ```sum_evens()``` in a much clearer way.\n",
    "\n",
    "Looking at this implementation of ```sum_evens()```, what makes it hard to read?"
   ]
  },
  {
   "cell_type": "markdown",
   "id": "06e8a7bd-1d8f-4cfa-aa6d-b4d5cc49d90b",
   "metadata": {},
   "source": [
    "## Reformatting ```sum_evens()```"
   ]
  },
  {
   "cell_type": "markdown",
   "id": "c5cf2ae5-5011-4305-b799-a1bac16b5123",
   "metadata": {},
   "source": [
    "- Methods to denest\n",
    "  - extraction: give the function less responsibility\n",
    "  - inversion: move the conditions that exit the loop early"
   ]
  },
  {
   "cell_type": "code",
   "execution_count": null,
   "id": "c6de71f9-7d93-473f-a78d-4c008e716325",
   "metadata": {},
   "outputs": [],
   "source": []
  },
  {
   "cell_type": "code",
   "execution_count": 16,
   "id": "641fe068-7dee-401c-bc40-c36a02c8be51",
   "metadata": {},
   "outputs": [
    {
     "data": {
      "text/plain": [
       "24"
      ]
     },
     "execution_count": 16,
     "metadata": {},
     "output_type": "execute_result"
    }
   ],
   "source": [
    "def filter_evens(number):\n",
    "    if (number % 2 == 0):\n",
    "        return number\n",
    "    \n",
    "    return 0\n",
    "\n",
    "\n",
    "def sum_evens(bottom, top):\n",
    "    if (top < bottom):\n",
    "        return 0\n",
    "\n",
    "    total = 0\n",
    "    \n",
    "    while (bottom <= top):\n",
    "        total += filter_evens(bottom)\n",
    "        bottom += 1\n",
    "\n",
    "    return total\n",
    "\n",
    "sum_evens(5, 10)"
   ]
  },
  {
   "cell_type": "markdown",
   "id": "f742d34c-1f5e-4ab2-8104-b6c74e780d53",
   "metadata": {},
   "source": [
    "# Unit Tests"
   ]
  },
  {
   "cell_type": "markdown",
   "id": "7eebf3c7-2f72-461f-8c9c-25857312b17b",
   "metadata": {},
   "source": [
    "Until this point, you have hopefully trusted me when I described what the function is doing. To reiterate, we expect ```sum_evens()``` to sum all the even numbers between the bottom and the top including the top. Additionally, if the bottom is larger than the top, we return 0.\n",
    "\n",
    "Using this logic, for a given ```(bottom, top)```, we expect the following results:\n",
    "- ```(0, 2)``` = 0 + 2 = 2\n",
    "- ```(0, 5)``` = 0 + 2 + 4 = 6\n",
    "- ```(10, 4)``` = 0\n",
    "- ```(-2, 5)``` = (-2) + 0 + 2 + 4 = 4\n",
    "- ```(-6, -3)``` = (-6) + (-4) + (-2) = -10"
   ]
  },
  {
   "cell_type": "markdown",
   "id": "d206d8f0-59f8-4097-bd54-2a4116c43cc6",
   "metadata": {},
   "source": [
    "If we want to check our code against the expected results, we can implement unit tests. Unit tests assert our function equal the expected value for a wide range of simple cases.\n",
    "\n",
    "Let's see what unit tests using ```assert``` might look for our ```sum_even()``` function."
   ]
  },
  {
   "cell_type": "code",
   "execution_count": 39,
   "id": "66ca97e5-35c1-4669-832e-c7e05d6bd6ab",
   "metadata": {},
   "outputs": [],
   "source": [
    "def test_sum_even():\n",
    "    assert sum_evens(0, 2) == 2\n",
    "    assert sum_evens(0, 5) == 6\n",
    "    assert sum_evens(10, 4) == 0\n",
    "    assert sum_evens(-2, 5) == 4\n",
    "    assert sum_evens(-6, -3) == -10\n",
    "\n",
    "test_sum_even()"
   ]
  },
  {
   "cell_type": "markdown",
   "id": "eccfb8fb-c60e-435e-8b08-bfbac6b5a889",
   "metadata": {},
   "source": [
    "Unit tests reduces the need for temporary print statements in your functions that you manually against.\n",
    "\n",
    "When constructing unit tests, try to come up with every scenario that could be an issue. For this example, we checked:\n",
    "1. an even bottom to an even top\n",
    "2. an even bottom to an off top\n",
    "3. a bottom greater than the top\n",
    "4. a negative bottom to a positive top\n",
    "5. a negative bottom to a negative top\n",
    "\n",
    "This is by no means a comprehensive list. Still, each unit test provides a unique check not covered by the other.\n",
    "\n",
    "For this computer project, unit tests are by no means required. However, if you have questions about the code, easily showing your code works as intended or how your code fails will make it so much easier for Professor Novak and the TAs to help you debugging."
   ]
  }
 ],
 "metadata": {
  "kernelspec": {
   "display_name": "Python 3 (ipykernel)",
   "language": "python",
   "name": "python3"
  },
  "language_info": {
   "codemirror_mode": {
    "name": "ipython",
    "version": 3
   },
   "file_extension": ".py",
   "mimetype": "text/x-python",
   "name": "python",
   "nbconvert_exporter": "python",
   "pygments_lexer": "ipython3",
   "version": "3.12.7"
  }
 },
 "nbformat": 4,
 "nbformat_minor": 5
}

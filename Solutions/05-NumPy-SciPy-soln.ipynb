{
 "cells": [
  {
   "cell_type": "markdown",
   "id": "2454eb00-ce9b-47eb-a029-ab17d1e8de5d",
   "metadata": {},
   "source": [
    "# NumPy and SciPy"
   ]
  },
  {
   "cell_type": "markdown",
   "id": "c7775210-b614-4b79-bbd5-9750eae397b6",
   "metadata": {},
   "source": [
    "NumPy and SciPy are two extremely useful packages available to you. NumPy has the `numpy.array`, an n-dimensional array with tons of built in support. SciPy has an extremely powerful linear algebra package, along with function optimization and root finding. Both numpy and SciPy will be critical components of your code for the computer projects."
   ]
  },
  {
   "cell_type": "markdown",
   "id": "3f4ffbfe-9cd7-4edb-83e3-80b491d33f4d",
   "metadata": {},
   "source": [
    "## The NumPy array"
   ]
  },
  {
   "cell_type": "markdown",
   "id": "a7efe283-2cb0-4db4-a0c0-3942bb284af5",
   "metadata": {},
   "source": [
    "The NumPy array is one of the most versatile and powerful data containers available to you. It is effectively a python list, but much faster and tons of back-end supporting functions. Lets take a look:"
   ]
  },
  {
   "cell_type": "code",
   "execution_count": 18,
   "id": "eb642c75-bc12-45b7-873c-d91f2beb1973",
   "metadata": {},
   "outputs": [],
   "source": [
    "import numpy as np #common practice"
   ]
  },
  {
   "cell_type": "code",
   "execution_count": 19,
   "id": "2d7cfcfd-818b-42e4-b6df-42bcac6fc62f",
   "metadata": {},
   "outputs": [
    {
     "name": "stdout",
     "output_type": "stream",
     "text": [
      "[1 2 3 4 5]\n",
      "[1. 2. 3. 4. 5.]\n",
      "[1. 2. 3. 4. 5.]\n"
     ]
    }
   ],
   "source": [
    "#array of integers\n",
    "my_ints = np.array([1,2,3,4,5])\n",
    "print(my_ints)\n",
    "\n",
    "my_floats = np.array([1.,2.,3.,4.,5.])\n",
    "print(my_floats)\n",
    "\n",
    "my_ints_to_floats = np.array([1,2,3,4,5], dtype = np.float64)\n",
    "print(my_ints_to_floats)"
   ]
  },
  {
   "cell_type": "markdown",
   "id": "9fef1c63-5748-40f5-9639-9ec0ef67600a",
   "metadata": {},
   "source": [
    "You can store more than a single dimension of values in a numpy array."
   ]
  },
  {
   "cell_type": "code",
   "execution_count": 20,
   "id": "d25a0e0a-489c-4c7b-837f-1fe1eef8b629",
   "metadata": {},
   "outputs": [
    {
     "name": "stdout",
     "output_type": "stream",
     "text": [
      "[[1 2 3]\n",
      " [4 5 6]\n",
      " [7 8 9]]\n"
     ]
    }
   ],
   "source": [
    "my_2darray = np.array([[1, 2, 3],\n",
    "                       [4, 5, 6],\n",
    "                       [7, 8, 9]])\n",
    "print(my_2darray)"
   ]
  },
  {
   "cell_type": "markdown",
   "id": "58907d76-4975-42c2-b0b4-af6484a54a78",
   "metadata": {},
   "source": [
    "With the basics of the `numpy.array` reviewed, lets take a look at some helpful functions NumPy offers! This is a non-comprehensive list of the available constructors, but the ones presented may be relevant to you!"
   ]
  },
  {
   "cell_type": "code",
   "execution_count": 21,
   "id": "3bcae52b-bc04-4a41-b08c-f3c99eb97f68",
   "metadata": {},
   "outputs": [],
   "source": [
    "a = np.zeros( (4,5) )  #4 rows and 5 columns all filled with zero\n",
    "\n",
    "b = np.ones( (4,5) )  #4 rows and 5 columns all filled with zero\n",
    "\n",
    "c = np.full( (4,5), 8 )  # 4 rows and 5 columns all filled with 8\n",
    "\n",
    "d = np.zeros_like( b )  # takes an input array and creates a new one with the same shape filled with zeros\n",
    "\n",
    "e = np.ones_like( a )  #^ but with ones\n",
    "\n",
    "f = np.linspace(0, 10, 100)  #100 numbers between 0 and 10, evenly spaced (inclusive bounds)\n",
    "\n",
    "g = np.arange(0, 10, 1)  #numbers starting aat zero increased by 1 until 10\n",
    "\n",
    "h = np.logspace(0, 10, 10)  #numbers starting at 1e0 ending at 1e10, with even spacing\n",
    "\n",
    "i = np.diag(g)  #creates a 2-d array with the diagonal equal to g\n",
    "\n",
    "j = np.diag(i)  #creates a 1-d array from the diagonal of h"
   ]
  },
  {
   "cell_type": "markdown",
   "id": "483224de-c89f-45a7-96ef-23d33e40c64d",
   "metadata": {},
   "source": [
    "NumPy arrays support two extremely cool features: splicing / indexing and universal functions. "
   ]
  },
  {
   "cell_type": "markdown",
   "id": "342500d4-904c-4997-b05e-1ad4ba9a89f7",
   "metadata": {},
   "source": [
    "### Splicing and Indexing"
   ]
  },
  {
   "cell_type": "code",
   "execution_count": 22,
   "id": "5b866df9-dd80-4602-82eb-0657d5ddd12f",
   "metadata": {},
   "outputs": [
    {
     "data": {
      "text/plain": [
       "array([[0.21848129, 0.52863863],\n",
       "       [0.53858394, 0.17646006]])"
      ]
     },
     "execution_count": 22,
     "metadata": {},
     "output_type": "execute_result"
    }
   ],
   "source": [
    "a = np.random.rand(4,4)  #creates a 4x4 array filled with random numbers\n",
    "\n",
    "#numpy arrays are indexing by row then column\n",
    "\n",
    "# to get the element in the first column and second row (1x0):\n",
    "a[1,0], a[1][0]\n",
    "\n",
    "# to get the first row \n",
    "a[0]\n",
    "\n",
    "# to get the first column\n",
    "a[:, 0]\n",
    "\n",
    "# to get the first row, but only the first 3 elements\n",
    "a[0,:3]\n",
    "\n",
    "# to get the first column, but only the last 3 elements\n",
    "a[-3:,0]\n",
    "\n",
    "# to get the 'center' 4 elements\n",
    "a[1:3,1:3]"
   ]
  },
  {
   "cell_type": "markdown",
   "id": "ee03ca30-15bb-41e7-8955-e480f0d6d617",
   "metadata": {},
   "source": [
    "As you can tell, numpy indexing and splicing is very powerful! But also, these splices can serve as 'lvalues' in equations and can be set!"
   ]
  },
  {
   "cell_type": "code",
   "execution_count": 23,
   "id": "8339eeb0-5e26-4112-81e9-821473aefb8b",
   "metadata": {},
   "outputs": [
    {
     "name": "stdout",
     "output_type": "stream",
     "text": [
      "[[0.63582038 0.13093213 0.05931763 0.03082272]\n",
      " [0.76049452 0.10993292 0.89967431 0.75532312]\n",
      " [0.59308169 0.57426909 0.57093172 0.81210837]\n",
      " [0.52335741 0.34510167 0.85141177 0.25579568]]\n",
      "[[0.         0.         0.         0.03082272]\n",
      " [0.76049452 0.10993292 0.89967431 0.75532312]\n",
      " [0.59308169 0.57426909 0.57093172 0.81210837]\n",
      " [0.52335741 0.34510167 0.85141177 0.25579568]]\n"
     ]
    }
   ],
   "source": [
    "a = np.random.rand(4,4)\n",
    "print(a) \n",
    "\n",
    "a[0,:3] = 0  #setting the first row's first three elements to 0\n",
    "print(a)"
   ]
  },
  {
   "cell_type": "markdown",
   "id": "55e431a2-2c57-4c0e-9a2d-7da67805ce7a",
   "metadata": {},
   "source": [
    "Lets scale this up, and say that we want to change only the tridiagonal entries..."
   ]
  },
  {
   "cell_type": "code",
   "execution_count": 24,
   "id": "dc0e3c9f-ede5-4da1-9680-978b5bb7c684",
   "metadata": {},
   "outputs": [
    {
     "name": "stdout",
     "output_type": "stream",
     "text": [
      "[[0. 0. 0. 0. 0. 0. 0. 0. 0. 0.]\n",
      " [0. 0. 0. 0. 0. 0. 0. 0. 0. 0.]\n",
      " [0. 0. 0. 0. 0. 0. 0. 0. 0. 0.]\n",
      " [0. 0. 0. 0. 0. 0. 0. 0. 0. 0.]\n",
      " [0. 0. 0. 0. 0. 0. 0. 0. 0. 0.]\n",
      " [0. 0. 0. 0. 0. 0. 0. 0. 0. 0.]\n",
      " [0. 0. 0. 0. 0. 0. 0. 0. 0. 0.]\n",
      " [0. 0. 0. 0. 0. 0. 0. 0. 0. 0.]\n",
      " [0. 0. 0. 0. 0. 0. 0. 0. 0. 0.]\n",
      " [0. 0. 0. 0. 0. 0. 0. 0. 0. 0.]]\n",
      "\n",
      " [[0. 0. 0. 0. 0. 0. 0. 0. 0. 0.]\n",
      " [5. 5. 5. 0. 0. 0. 0. 0. 0. 0.]\n",
      " [0. 5. 5. 5. 0. 0. 0. 0. 0. 0.]\n",
      " [0. 0. 5. 5. 5. 0. 0. 0. 0. 0.]\n",
      " [0. 0. 0. 5. 5. 5. 0. 0. 0. 0.]\n",
      " [0. 0. 0. 0. 5. 5. 5. 0. 0. 0.]\n",
      " [0. 0. 0. 0. 0. 5. 5. 5. 0. 0.]\n",
      " [0. 0. 0. 0. 0. 0. 5. 5. 5. 0.]\n",
      " [0. 0. 0. 0. 0. 0. 0. 5. 5. 5.]\n",
      " [0. 0. 0. 0. 0. 0. 0. 0. 0. 0.]]\n"
     ]
    }
   ],
   "source": [
    "a = np.zeros((10,10))\n",
    "print(a)\n",
    "for i in range(1,9):\n",
    "    a[i,i-1:i+2] = [5,5,5]\n",
    "print('\\n',a)"
   ]
  },
  {
   "cell_type": "markdown",
   "id": "c1ffe2b9-2a36-4bb8-8f95-fe34d780d6c3",
   "metadata": {},
   "source": [
    "### Universal functions (ufuncs)"
   ]
  },
  {
   "cell_type": "markdown",
   "id": "0172aea2-dab3-489a-8897-0dfb486e9fa8",
   "metadata": {},
   "source": [
    "Finally, lets look into universal functions! ufuncs are actually defined by NumPy to be a certain set of functions they provide (and operator overloads), however we will use them to simply be any function that can operate on whole numpy arrays at a time!"
   ]
  },
  {
   "cell_type": "code",
   "execution_count": 25,
   "id": "8ab5b5d7-eae1-4448-83f9-6c3c595c0304",
   "metadata": {},
   "outputs": [
    {
     "name": "stdout",
     "output_type": "stream",
     "text": [
      "[[0. 0. 0.]\n",
      " [0. 0. 0.]\n",
      " [0. 0. 0.]]\n",
      "[[2. 2. 2.]\n",
      " [2. 2. 2.]\n",
      " [2. 2. 2.]]\n"
     ]
    }
   ],
   "source": [
    "a = np.zeros((3,3))\n",
    "print(a)\n",
    "\n",
    "a += 2  # adding 2 to the whole array\n",
    "print(a)"
   ]
  },
  {
   "cell_type": "markdown",
   "id": "e0b4493a-d22f-49c3-9e5c-a97f7a4bcc2c",
   "metadata": {},
   "source": [
    "The above code allows for all built-in python operators not just add. Additionally, numpy has math functions that apply to the whole array as well!"
   ]
  },
  {
   "cell_type": "code",
   "execution_count": 26,
   "id": "d40e7797-6c38-49a3-81af-003b6c6bda4e",
   "metadata": {},
   "outputs": [
    {
     "name": "stdout",
     "output_type": "stream",
     "text": [
      "[[2. 2. 2.]\n",
      " [2. 2. 2.]\n",
      " [2. 2. 2.]]\n",
      "[[7.3890561 7.3890561 7.3890561]\n",
      " [7.3890561 7.3890561 7.3890561]\n",
      " [7.3890561 7.3890561 7.3890561]]\n"
     ]
    }
   ],
   "source": [
    "print(a)\n",
    "\n",
    "a = np.exp(a)  #raising e to the values in the matrix\n",
    "print(a)"
   ]
  },
  {
   "cell_type": "markdown",
   "id": "01421e04-2e69-4e85-b823-6116daa92a36",
   "metadata": {},
   "source": [
    "This is allowed by all numpy math functions, and is actually significantly faster than doing a for-loop! This is due to numpy being a python wrapping of C++ functions. The final tidbit about numpy is numerical integration of __*predefined*__ arrays, i.e. an array of flux values... "
   ]
  },
  {
   "cell_type": "code",
   "execution_count": 27,
   "id": "379adc4f-ff9e-42fe-8ea5-157e4f1bee2c",
   "metadata": {},
   "outputs": [
    {
     "data": {
      "text/plain": [
       "np.float64(22044.18983764174)"
      ]
     },
     "execution_count": 27,
     "metadata": {},
     "output_type": "execute_result"
    }
   ],
   "source": [
    "a = np.linspace(0,10,100)\n",
    "b = np.exp(a)\n",
    "\n",
    "np.trapezoid(y = b, x = a)  #takes the trapezoidal rule over provided x and y"
   ]
  },
  {
   "cell_type": "markdown",
   "id": "9b21af4a-a492-4476-b714-533f79795284",
   "metadata": {},
   "source": [
    "## SciPy"
   ]
  },
  {
   "cell_type": "markdown",
   "id": "9b5cc583-66c9-4e8f-865b-796ae885cee8",
   "metadata": {},
   "source": [
    "Much like NumPy, SciPy is a very powerful package, but offers different amazing modules and functions. \n",
    "\n",
    "The two modules from SciPy most likely to be helpful for the computer projects are `scipy.linalg` and `scipy.optimize`, but that is not to say the other SciPy modules are not extremely powerful and useful. These other modules will not be presented here, but you should still know about them: `scipy.integrate` (numerical integration of user functions), `scipy.differentiate` (numerical derivatives of user provided functions, jacobians, hessians...), `scipy.interpolate` (interpolation of n-dimensional data), `scipy.special` (special functions like the __*Bessel*__, Legendre, Sph, Zern...), `scipy.stats` (statistics package with various distribution types and predictors), `scipy.sparse` (sparse matrix linear algebra)."
   ]
  },
  {
   "cell_type": "markdown",
   "id": "8778690c-dae3-4a08-946b-56d49bbc0793",
   "metadata": {},
   "source": [
    "### SciPy Linear Algebra (non-sparse)"
   ]
  },
  {
   "cell_type": "code",
   "execution_count": 37,
   "id": "75304010-56e9-4f1d-a6b4-167371310279",
   "metadata": {},
   "outputs": [],
   "source": [
    "import scipy.linalg as sla\n",
    "\n",
    "A = np.random.rand(5,5)\n",
    "b = np.random.rand(5)\n",
    "\n",
    "x = sla.solve(A, b)  #solve the system, faster than numpy.linalg.solve\n",
    "\n",
    "vals, vecs = sla.eig(A)  #get the eigenvals and vectors of A, Sanity check your work!"
   ]
  },
  {
   "cell_type": "markdown",
   "id": "d1d516f6-66a5-4593-9e6f-2e7274d3391b",
   "metadata": {},
   "source": [
    "SciPy linalg has a lot more functionality than just the above presented, but a lot of it is outside of the scope of this class. That said, if you ever need to solve any form of a matrix system you should use scipy!"
   ]
  },
  {
   "cell_type": "markdown",
   "id": "9b983b2d-7751-4919-b55f-96f256779eb7",
   "metadata": {},
   "source": [
    "### SciPy Optimize"
   ]
  },
  {
   "cell_type": "markdown",
   "id": "a86b6e59-0e4b-47e6-99aa-305b7d6d5556",
   "metadata": {},
   "source": [
    "Assuming no one wants to write their own root-finding algorithm (however cool and fun they are), `scipy.optimize` does it for you! \n",
    "\n",
    "A root finding function allows you to solve transcendental equations like so many of those criticality conditions..."
   ]
  },
  {
   "cell_type": "code",
   "execution_count": 47,
   "id": "671cabe1-64b4-4720-9d9e-21959cd9f6bc",
   "metadata": {},
   "outputs": [
    {
     "name": "stdout",
     "output_type": "stream",
     "text": [
      "[-5.12986763e-09]\n"
     ]
    }
   ],
   "source": [
    "import scipy.optimize as opt\n",
    "\n",
    "def func(x):\n",
    "    #say our equation is x+1 = exp(x)\n",
    "    #All a root finding algorithm does is solve for when a function is 0\n",
    "    # and so solve the system so one side is zero and voilla!\n",
    "    return x+1 - np.exp(x)  \n",
    "\n",
    "solution = opt.root(func, x0=[1])\n",
    "\n",
    "#to extract the solution:\n",
    "print(solution.x )"
   ]
  },
  {
   "cell_type": "markdown",
   "id": "ff0d5512-c739-4431-a290-c67f000c6974",
   "metadata": {},
   "source": [
    "You should notice the final answer is not correct, as we expect 0. This is due to computational error, and is effectively negligible with respect to this class. "
   ]
  }
 ],
 "metadata": {
  "kernelspec": {
   "display_name": "Python 3 (ipykernel)",
   "language": "python",
   "name": "python3"
  },
  "language_info": {
   "codemirror_mode": {
    "name": "ipython",
    "version": 3
   },
   "file_extension": ".py",
   "mimetype": "text/x-python",
   "name": "python",
   "nbconvert_exporter": "python",
   "pygments_lexer": "ipython3",
   "version": "3.10.14"
  }
 },
 "nbformat": 4,
 "nbformat_minor": 5
}
